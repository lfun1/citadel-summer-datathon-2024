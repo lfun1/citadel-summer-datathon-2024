{
 "cells": [
  {
   "cell_type": "markdown",
   "id": "cbfc7633-125b-40c4-a125-2b4c4c55471d",
   "metadata": {},
   "source": [
    "## EDA\n",
    "\n",
    "Lisa Fung, 8/3/24"
   ]
  },
  {
   "cell_type": "code",
   "execution_count": 55,
   "id": "5ff214e5-e2c3-4469-b77a-696c93749ae8",
   "metadata": {},
   "outputs": [],
   "source": [
    "import numpy as np\n",
    "import pandas as pd\n",
    "import matplotlib.pyplot as plt"
   ]
  },
  {
   "cell_type": "code",
   "execution_count": 54,
   "id": "c7ec33e8-107e-4145-8fb7-022c22adb62e",
   "metadata": {},
   "outputs": [
    {
     "ename": "ModuleNotFoundError",
     "evalue": "No module named 'geopandas'",
     "output_type": "error",
     "traceback": [
      "\u001b[1;31m---------------------------------------------------------------------------\u001b[0m",
      "\u001b[1;31mModuleNotFoundError\u001b[0m                       Traceback (most recent call last)",
      "Cell \u001b[1;32mIn[54], line 1\u001b[0m\n\u001b[1;32m----> 1\u001b[0m \u001b[38;5;28;01mimport\u001b[39;00m \u001b[38;5;21;01mgeopandas\u001b[39;00m \u001b[38;5;28;01mas\u001b[39;00m \u001b[38;5;21;01mgpd\u001b[39;00m\n",
      "\u001b[1;31mModuleNotFoundError\u001b[0m: No module named 'geopandas'"
     ]
    }
   ],
   "source": [
    "import geopandas as gpd"
   ]
  },
  {
   "cell_type": "code",
   "execution_count": 3,
   "id": "ab396092-808a-4223-9564-b437f1468aac",
   "metadata": {},
   "outputs": [
    {
     "name": "stderr",
     "output_type": "stream",
     "text": [
      "C:\\Users\\lisaf\\AppData\\Local\\Temp\\ipykernel_16720\\1116362578.py:8: DtypeWarning: Columns (18,19,21,22) have mixed types. Specify dtype option on import or set low_memory=False.\n",
      "  health_df = pd.read_csv(\"../Data/Nutrition_Physical_Activity_and_Obesity_Data.csv\")\n"
     ]
    }
   ],
   "source": [
    "acs_df = pd.read_csv(\"../Data/acs_5yr_est_selected_economic_characteristics_2010-2022.csv\")\n",
    "commodities_df = pd.read_csv(\"../Data/all_commodities_fixed.csv\")\n",
    "stocks_prices_df = pd.read_csv(\"../Data/all_stock_and_etfs.csv\")\n",
    "meat_store_df = pd.read_csv(\"../Data/Meat_Stats_Cold_Storage.csv\")\n",
    "meat_prod_df = pd.read_csv(\"../Data/Meat_Stats_Meat_Production.csv\")\n",
    "meat_scounts_df = pd.read_csv(\"../Data/Meat_Stats_Slaughter_Counts.csv\")\n",
    "meat_sweights_df = pd.read_csv(\"../Data/Meat_Stats_Slaughter_Weights.csv\") # 1983-2023\n",
    "health_df = pd.read_csv(\"../Data/Nutrition_Physical_Activity_and_Obesity_Data.csv\")\n",
    "stocks_info_df = pd.read_csv(\"../Data/stock_descriptions.csv\")"
   ]
  },
  {
   "cell_type": "code",
   "execution_count": 36,
   "id": "f7b05f29-c590-4953-b2a3-0ff3b0956bff",
   "metadata": {},
   "outputs": [],
   "source": [
    "# commodities_df['Commodity'].unique()\n",
    "# stocks_prices_df['Ticker_Symbol'].unique()\n",
    "# meat_store_df['Animal'].unique()\n",
    "# meat_scounts_df['Animal'].unique()\n",
    "# stocks_info_df"
   ]
  },
  {
   "cell_type": "markdown",
   "id": "ef6db159-d10d-4ad7-a2ef-79d50913497c",
   "metadata": {},
   "source": [
    "## Health Data: Nutrition_Physical_Activity_and_Obesity_Data\n",
    "Questions:\n",
    "- Ages: Grade 9-12, Adults 18 and older\n",
    "- Separated by: LocationAbbr, Age(years), Education, Gender, Grade, Income, Race/Ethnicity\n",
    "- Questions: Physical Activity, Obesity/Overweight, Nutrition (Vegetables, fruits, soda/pop)"
   ]
  },
  {
   "cell_type": "code",
   "execution_count": 58,
   "id": "dcfdd475-416e-46c5-aff5-afb9e1fa7b10",
   "metadata": {},
   "outputs": [
    {
     "data": {
      "text/plain": [
       "Age(years)\n",
       "25 - 34        3330\n",
       "55 - 64        3330\n",
       "18 - 24        3330\n",
       "45 - 54        3330\n",
       "35 - 44        3330\n",
       "65 or older    3330\n",
       "Name: count, dtype: int64"
      ]
     },
     "execution_count": 58,
     "metadata": {},
     "output_type": "execute_result"
    }
   ],
   "source": [
    "# health_df.Question.unique()\n",
    "health_df.columns\n",
    "health_df['Age(years)'].value_counts()"
   ]
  },
  {
   "cell_type": "code",
   "execution_count": 61,
   "id": "8203f730-8bea-48d8-acfb-fd9b5444489d",
   "metadata": {},
   "outputs": [
    {
     "ename": "KeyError",
     "evalue": "True",
     "output_type": "error",
     "traceback": [
      "\u001b[1;31m---------------------------------------------------------------------------\u001b[0m",
      "\u001b[1;31mKeyError\u001b[0m                                  Traceback (most recent call last)",
      "File \u001b[1;32m~\\AppData\\Local\\Packages\\PythonSoftwareFoundation.Python.3.10_qbz5n2kfra8p0\\LocalCache\\local-packages\\Python310\\site-packages\\pandas\\core\\indexes\\base.py:3805\u001b[0m, in \u001b[0;36mIndex.get_loc\u001b[1;34m(self, key)\u001b[0m\n\u001b[0;32m   3804\u001b[0m \u001b[38;5;28;01mtry\u001b[39;00m:\n\u001b[1;32m-> 3805\u001b[0m     \u001b[38;5;28;01mreturn\u001b[39;00m \u001b[38;5;28;43mself\u001b[39;49m\u001b[38;5;241;43m.\u001b[39;49m\u001b[43m_engine\u001b[49m\u001b[38;5;241;43m.\u001b[39;49m\u001b[43mget_loc\u001b[49m\u001b[43m(\u001b[49m\u001b[43mcasted_key\u001b[49m\u001b[43m)\u001b[49m\n\u001b[0;32m   3806\u001b[0m \u001b[38;5;28;01mexcept\u001b[39;00m \u001b[38;5;167;01mKeyError\u001b[39;00m \u001b[38;5;28;01mas\u001b[39;00m err:\n",
      "File \u001b[1;32mindex.pyx:167\u001b[0m, in \u001b[0;36mpandas._libs.index.IndexEngine.get_loc\u001b[1;34m()\u001b[0m\n",
      "File \u001b[1;32mindex.pyx:196\u001b[0m, in \u001b[0;36mpandas._libs.index.IndexEngine.get_loc\u001b[1;34m()\u001b[0m\n",
      "File \u001b[1;32mpandas\\\\_libs\\\\hashtable_class_helper.pxi:7081\u001b[0m, in \u001b[0;36mpandas._libs.hashtable.PyObjectHashTable.get_item\u001b[1;34m()\u001b[0m\n",
      "File \u001b[1;32mpandas\\\\_libs\\\\hashtable_class_helper.pxi:7089\u001b[0m, in \u001b[0;36mpandas._libs.hashtable.PyObjectHashTable.get_item\u001b[1;34m()\u001b[0m\n",
      "\u001b[1;31mKeyError\u001b[0m: True",
      "\nThe above exception was the direct cause of the following exception:\n",
      "\u001b[1;31mKeyError\u001b[0m                                  Traceback (most recent call last)",
      "Cell \u001b[1;32mIn[61], line 1\u001b[0m\n\u001b[1;32m----> 1\u001b[0m \u001b[43mhealth_df\u001b[49m\u001b[43m[\u001b[49m\u001b[43mhealth_df\u001b[49m\u001b[43m[\u001b[49m\u001b[38;5;124;43m'\u001b[39;49m\u001b[38;5;124;43mAge(years)\u001b[39;49m\u001b[38;5;124;43m'\u001b[39;49m\u001b[43m]\u001b[49m\u001b[38;5;241;43m.\u001b[39;49m\u001b[43many\u001b[49m\u001b[43m(\u001b[49m\u001b[43m)\u001b[49m\u001b[43m]\u001b[49m\n",
      "File \u001b[1;32m~\\AppData\\Local\\Packages\\PythonSoftwareFoundation.Python.3.10_qbz5n2kfra8p0\\LocalCache\\local-packages\\Python310\\site-packages\\pandas\\core\\frame.py:4102\u001b[0m, in \u001b[0;36mDataFrame.__getitem__\u001b[1;34m(self, key)\u001b[0m\n\u001b[0;32m   4100\u001b[0m \u001b[38;5;28;01mif\u001b[39;00m \u001b[38;5;28mself\u001b[39m\u001b[38;5;241m.\u001b[39mcolumns\u001b[38;5;241m.\u001b[39mnlevels \u001b[38;5;241m>\u001b[39m \u001b[38;5;241m1\u001b[39m:\n\u001b[0;32m   4101\u001b[0m     \u001b[38;5;28;01mreturn\u001b[39;00m \u001b[38;5;28mself\u001b[39m\u001b[38;5;241m.\u001b[39m_getitem_multilevel(key)\n\u001b[1;32m-> 4102\u001b[0m indexer \u001b[38;5;241m=\u001b[39m \u001b[38;5;28;43mself\u001b[39;49m\u001b[38;5;241;43m.\u001b[39;49m\u001b[43mcolumns\u001b[49m\u001b[38;5;241;43m.\u001b[39;49m\u001b[43mget_loc\u001b[49m\u001b[43m(\u001b[49m\u001b[43mkey\u001b[49m\u001b[43m)\u001b[49m\n\u001b[0;32m   4103\u001b[0m \u001b[38;5;28;01mif\u001b[39;00m is_integer(indexer):\n\u001b[0;32m   4104\u001b[0m     indexer \u001b[38;5;241m=\u001b[39m [indexer]\n",
      "File \u001b[1;32m~\\AppData\\Local\\Packages\\PythonSoftwareFoundation.Python.3.10_qbz5n2kfra8p0\\LocalCache\\local-packages\\Python310\\site-packages\\pandas\\core\\indexes\\base.py:3812\u001b[0m, in \u001b[0;36mIndex.get_loc\u001b[1;34m(self, key)\u001b[0m\n\u001b[0;32m   3807\u001b[0m     \u001b[38;5;28;01mif\u001b[39;00m \u001b[38;5;28misinstance\u001b[39m(casted_key, \u001b[38;5;28mslice\u001b[39m) \u001b[38;5;129;01mor\u001b[39;00m (\n\u001b[0;32m   3808\u001b[0m         \u001b[38;5;28misinstance\u001b[39m(casted_key, abc\u001b[38;5;241m.\u001b[39mIterable)\n\u001b[0;32m   3809\u001b[0m         \u001b[38;5;129;01mand\u001b[39;00m \u001b[38;5;28many\u001b[39m(\u001b[38;5;28misinstance\u001b[39m(x, \u001b[38;5;28mslice\u001b[39m) \u001b[38;5;28;01mfor\u001b[39;00m x \u001b[38;5;129;01min\u001b[39;00m casted_key)\n\u001b[0;32m   3810\u001b[0m     ):\n\u001b[0;32m   3811\u001b[0m         \u001b[38;5;28;01mraise\u001b[39;00m InvalidIndexError(key)\n\u001b[1;32m-> 3812\u001b[0m     \u001b[38;5;28;01mraise\u001b[39;00m \u001b[38;5;167;01mKeyError\u001b[39;00m(key) \u001b[38;5;28;01mfrom\u001b[39;00m \u001b[38;5;21;01merr\u001b[39;00m\n\u001b[0;32m   3813\u001b[0m \u001b[38;5;28;01mexcept\u001b[39;00m \u001b[38;5;167;01mTypeError\u001b[39;00m:\n\u001b[0;32m   3814\u001b[0m     \u001b[38;5;66;03m# If we have a listlike key, _check_indexing_error will raise\u001b[39;00m\n\u001b[0;32m   3815\u001b[0m     \u001b[38;5;66;03m#  InvalidIndexError. Otherwise we fall through and re-raise\u001b[39;00m\n\u001b[0;32m   3816\u001b[0m     \u001b[38;5;66;03m#  the TypeError.\u001b[39;00m\n\u001b[0;32m   3817\u001b[0m     \u001b[38;5;28mself\u001b[39m\u001b[38;5;241m.\u001b[39m_check_indexing_error(key)\n",
      "\u001b[1;31mKeyError\u001b[0m: True"
     ]
    }
   ],
   "source": [
    "health_df[health_df['Age(years)'].isna()]"
   ]
  },
  {
   "cell_type": "code",
   "execution_count": 40,
   "id": "ef2ae4ea-60b8-4d69-a113-4f04a70f3e72",
   "metadata": {},
   "outputs": [
    {
     "data": {
      "text/plain": [
       "YearStart                                                                  2019\n",
       "YearEnd                                                                    2019\n",
       "LocationAbbr                                                                 AK\n",
       "LocationDesc                                                             Alaska\n",
       "Datasource                              Youth Risk Behavior Surveillance System\n",
       "Class                                                         Physical Activity\n",
       "Topic                                              Physical Activity - Behavior\n",
       "Question                      Percent of students in grades 9-12 who achieve...\n",
       "Data_Value_Unit                                                             NaN\n",
       "Data_Value_Type                                                           Value\n",
       "Data_Value                                                                  9.6\n",
       "Data_Value_Alt                                                              9.6\n",
       "Data_Value_Footnote_Symbol                                                  NaN\n",
       "Data_Value_Footnote                                                         NaN\n",
       "Low_Confidence_Limit                                                        5.5\n",
       "High_Confidence_Limit                                                      16.5\n",
       "Sample_Size                                                               130.0\n",
       "Total                                                                       NaN\n",
       "Age(years)                                                                  NaN\n",
       "Education                                                                   NaN\n",
       "Gender                                                                      NaN\n",
       "Grade                                                                       NaN\n",
       "Income                                                                      NaN\n",
       "Race/Ethnicity                                                            Asian\n",
       "GeoLocation                                   (64.845079957001, -147.722059036)\n",
       "ClassID                                                                      PA\n",
       "TopicID                                                                     PA1\n",
       "QuestionID                                                                 Q048\n",
       "DataValueTypeID                                                           VALUE\n",
       "LocationID                                                                    2\n",
       "StratificationCategory1                                          Race/Ethnicity\n",
       "Stratification1                                                           Asian\n",
       "StratificationCategoryId1                                                  RACE\n",
       "StratificationID1                                                       RACEASN\n",
       "Name: 0, dtype: object"
      ]
     },
     "execution_count": 40,
     "metadata": {},
     "output_type": "execute_result"
    }
   ],
   "source": [
    "health_df.iloc[0]"
   ]
  },
  {
   "cell_type": "markdown",
   "id": "efc5f90e-b3b2-4ec6-9799-ddd82207e3e9",
   "metadata": {},
   "source": [
    "### Health GIS Visualizations"
   ]
  },
  {
   "cell_type": "code",
   "execution_count": null,
   "id": "09909b4f-9871-406e-a3e4-d6e2d5f67359",
   "metadata": {},
   "outputs": [],
   "source": []
  },
  {
   "cell_type": "code",
   "execution_count": null,
   "id": "a02dc4b6-a801-458e-8010-bf8c5e955eb1",
   "metadata": {},
   "outputs": [],
   "source": []
  },
  {
   "cell_type": "code",
   "execution_count": null,
   "id": "a85b1e31-49cb-4d26-81f0-6b07c38f0403",
   "metadata": {},
   "outputs": [],
   "source": []
  }
 ],
 "metadata": {
  "kernelspec": {
   "display_name": "Python 3 (ipykernel)",
   "language": "python",
   "name": "python3"
  },
  "language_info": {
   "codemirror_mode": {
    "name": "ipython",
    "version": 3
   },
   "file_extension": ".py",
   "mimetype": "text/x-python",
   "name": "python",
   "nbconvert_exporter": "python",
   "pygments_lexer": "ipython3",
   "version": "3.10.11"
  }
 },
 "nbformat": 4,
 "nbformat_minor": 5
}
