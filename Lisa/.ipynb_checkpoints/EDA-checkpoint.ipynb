{
 "cells": [
  {
   "cell_type": "markdown",
   "id": "cbfc7633-125b-40c4-a125-2b4c4c55471d",
   "metadata": {},
   "source": [
    "EDA"
   ]
  },
  {
   "cell_type": "code",
   "execution_count": 1,
   "id": "5ff214e5-e2c3-4469-b77a-696c93749ae8",
   "metadata": {},
   "outputs": [],
   "source": [
    "import numpy as np\n",
    "import pandas as pd"
   ]
  },
  {
   "cell_type": "code",
   "execution_count": 3,
   "id": "ab396092-808a-4223-9564-b437f1468aac",
   "metadata": {},
   "outputs": [],
   "source": [
    "acs_df = pd.read_csv(\"../Data/acs_5yr_est_selected_economic_characteristics_2010-2022.csv\")\n",
    "commodities_df = pd.read_csv(\"../Data/all_commodities.csv\")\n",
    "stocks_df = pd.read_csv(\"../Data/all_stock_and_etfs.csv\")\n",
    "meat_cold_store_df = pd.read_csv(\"../Data/Meat_Stats_Cold_Storage.csv\") # 1983 - 2023"
   ]
  },
  {
   "cell_type": "code",
   "execution_count": 13,
   "id": "dcfdd475-416e-46c5-aff5-afb9e1fa7b10",
   "metadata": {},
   "outputs": [],
   "source": []
  },
  {
   "cell_type": "code",
   "execution_count": 16,
   "id": "f7b05f29-c590-4953-b2a3-0ff3b0956bff",
   "metadata": {},
   "outputs": [],
   "source": []
  },
  {
   "cell_type": "code",
   "execution_count": 12,
   "id": "ead25fba-1fb2-4567-8b80-9d826755e4c8",
   "metadata": {},
   "outputs": [
    {
     "data": {
      "text/plain": [
       "array(['Coffee', 'Corn', nan, 'Sugar'], dtype=object)"
      ]
     },
     "execution_count": 12,
     "metadata": {},
     "output_type": "execute_result"
    }
   ],
   "source": [
    "commodities_df['Commodity'].unique()"
   ]
  },
  {
   "cell_type": "code",
   "execution_count": 15,
   "id": "09909b4f-9871-406e-a3e4-d6e2d5f67359",
   "metadata": {},
   "outputs": [
    {
     "data": {
      "text/plain": [
       "array(['HRL', 'VOO', 'ADM', 'AGCO', 'DIA', 'PEP', 'QSR', 'TSCO', 'ONEQ',\n",
       "       'PPC', 'CAG', 'DRI', 'HSY', 'CAT', 'SBUX', 'CMG', 'COKE', 'CNHI',\n",
       "       'SPY', 'DE', 'TSN', 'GIS', 'WEN', 'YUM', 'VMI', 'MCD', 'SAP',\n",
       "       'DPZ', 'ALG'], dtype=object)"
      ]
     },
     "execution_count": 15,
     "metadata": {},
     "output_type": "execute_result"
    }
   ],
   "source": [
    "stocks_df['Ticker_Symbol'].unique()"
   ]
  },
  {
   "cell_type": "code",
   "execution_count": 20,
   "id": "ac30f24f-8cfc-4d5f-a562-b13c1bcb66c6",
   "metadata": {},
   "outputs": [
    {
     "name": "stdout",
     "output_type": "stream",
     "text": [
      "Index(['Date', 'Year', 'Month', 'Unit', 'Animal', 'Weight', 'Type_Of_Meat'], dtype='object')\n"
     ]
    },
    {
     "data": {
      "text/plain": [
       "array(['Red Meat', 'Poultry'], dtype=object)"
      ]
     },
     "execution_count": 20,
     "metadata": {},
     "output_type": "execute_result"
    }
   ],
   "source": [
    "print(meat_cold_store_df.columns)\n",
    "meat_cold_store_df['Type_Of_Meat'].unique()"
   ]
  },
  {
   "cell_type": "code",
   "execution_count": null,
   "id": "a02dc4b6-a801-458e-8010-bf8c5e955eb1",
   "metadata": {},
   "outputs": [],
   "source": []
  },
  {
   "cell_type": "code",
   "execution_count": null,
   "id": "a85b1e31-49cb-4d26-81f0-6b07c38f0403",
   "metadata": {},
   "outputs": [],
   "source": []
  }
 ],
 "metadata": {
  "kernelspec": {
   "display_name": "Python 3 (ipykernel)",
   "language": "python",
   "name": "python3"
  },
  "language_info": {
   "codemirror_mode": {
    "name": "ipython",
    "version": 3
   },
   "file_extension": ".py",
   "mimetype": "text/x-python",
   "name": "python",
   "nbconvert_exporter": "python",
   "pygments_lexer": "ipython3",
   "version": "3.10.11"
  }
 },
 "nbformat": 4,
 "nbformat_minor": 5
}
