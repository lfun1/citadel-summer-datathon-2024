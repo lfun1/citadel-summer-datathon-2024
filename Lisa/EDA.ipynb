{
 "cells": [
  {
   "cell_type": "markdown",
   "id": "cbfc7633-125b-40c4-a125-2b4c4c55471d",
   "metadata": {},
   "source": [
    "## EDA\n",
    "\n",
    "Lisa Fung, 8/3/24"
   ]
  },
  {
   "cell_type": "code",
   "execution_count": 55,
   "id": "5ff214e5-e2c3-4469-b77a-696c93749ae8",
   "metadata": {},
   "outputs": [],
   "source": [
    "import numpy as np\n",
    "import pandas as pd\n",
    "import matplotlib.pyplot as plt"
   ]
  },
  {
   "cell_type": "code",
   "execution_count": 62,
   "id": "c7ec33e8-107e-4145-8fb7-022c22adb62e",
   "metadata": {},
   "outputs": [],
   "source": [
    "import geopandas as gpd"
   ]
  },
  {
   "cell_type": "code",
   "execution_count": 3,
   "id": "ab396092-808a-4223-9564-b437f1468aac",
   "metadata": {},
   "outputs": [
    {
     "name": "stderr",
     "output_type": "stream",
     "text": [
      "C:\\Users\\lisaf\\AppData\\Local\\Temp\\ipykernel_16720\\1116362578.py:8: DtypeWarning: Columns (18,19,21,22) have mixed types. Specify dtype option on import or set low_memory=False.\n",
      "  health_df = pd.read_csv(\"../Data/Nutrition_Physical_Activity_and_Obesity_Data.csv\")\n"
     ]
    }
   ],
   "source": [
    "acs_df = pd.read_csv(\"../Data/acs_5yr_est_selected_economic_characteristics_2010-2022.csv\")\n",
    "commodities_df = pd.read_csv(\"../Data/all_commodities_fixed.csv\")\n",
    "stocks_prices_df = pd.read_csv(\"../Data/all_stock_and_etfs.csv\")\n",
    "meat_store_df = pd.read_csv(\"../Data/Meat_Stats_Cold_Storage.csv\")\n",
    "meat_prod_df = pd.read_csv(\"../Data/Meat_Stats_Meat_Production.csv\")\n",
    "meat_scounts_df = pd.read_csv(\"../Data/Meat_Stats_Slaughter_Counts.csv\")\n",
    "meat_sweights_df = pd.read_csv(\"../Data/Meat_Stats_Slaughter_Weights.csv\") # 1983-2023\n",
    "health_df = pd.read_csv(\"../Data/Nutrition_Physical_Activity_and_Obesity_Data.csv\")\n",
    "stocks_info_df = pd.read_csv(\"../Data/stock_descriptions.csv\")"
   ]
  },
  {
   "cell_type": "code",
   "execution_count": 36,
   "id": "f7b05f29-c590-4953-b2a3-0ff3b0956bff",
   "metadata": {},
   "outputs": [],
   "source": [
    "# commodities_df['Commodity'].unique()\n",
    "# stocks_prices_df['Ticker_Symbol'].unique()\n",
    "# meat_store_df['Animal'].unique()\n",
    "# meat_scounts_df['Animal'].unique()\n",
    "# stocks_info_df"
   ]
  },
  {
   "cell_type": "markdown",
   "id": "ef6db159-d10d-4ad7-a2ef-79d50913497c",
   "metadata": {},
   "source": [
    "## Health Data: Nutrition_Physical_Activity_and_Obesity_Data\n",
    "Questions:\n",
    "- Ages: Grade 9-12, Adults 18 and older\n",
    "- Separated by: 'LocationAbbr', 'Age(years)', 'Education', 'Gender', 'Grade', 'Income', 'Race/Ethnicity'\n",
    "- Questions: Physical Activity, Obesity/Overweight, Nutrition (Vegetables, fruits, soda/pop)"
   ]
  },
  {
   "cell_type": "code",
   "execution_count": 99,
   "id": "df810e7e-f872-4692-9456-73572eb3ba1a",
   "metadata": {},
   "outputs": [
    {
     "data": {
      "text/plain": [
       "array(['Physical Activity', 'Obesity / Weight Status', 'Sugar Drinks',\n",
       "       'Fruits and Vegetables', 'Television Viewing'], dtype=object)"
      ]
     },
     "execution_count": 99,
     "metadata": {},
     "output_type": "execute_result"
    }
   ],
   "source": [
    "health_df['Question'].value_counts()\n",
    "health_df['Class'].unique()"
   ]
  },
  {
   "cell_type": "code",
   "execution_count": 90,
   "id": "dcfdd475-416e-46c5-aff5-afb9e1fa7b10",
   "metadata": {},
   "outputs": [
    {
     "data": {
      "text/plain": [
       "Index(['YearStart', 'YearEnd', 'LocationAbbr', 'LocationDesc', 'Datasource',\n",
       "       'Class', 'Topic', 'Question', 'Data_Value_Unit', 'Data_Value_Type',\n",
       "       'Data_Value', 'Data_Value_Alt', 'Data_Value_Footnote_Symbol',\n",
       "       'Data_Value_Footnote', 'Low_Confidence_Limit', 'High_Confidence_Limit',\n",
       "       'Sample_Size', 'Total', 'Age(years)', 'Education', 'Gender', 'Grade',\n",
       "       'Income', 'Race/Ethnicity', 'GeoLocation', 'ClassID', 'TopicID',\n",
       "       'QuestionID', 'DataValueTypeID', 'LocationID',\n",
       "       'StratificationCategory1', 'Stratification1',\n",
       "       'StratificationCategoryId1', 'StratificationID1'],\n",
       "      dtype='object')"
      ]
     },
     "execution_count": 90,
     "metadata": {},
     "output_type": "execute_result"
    }
   ],
   "source": [
    "health_df.columns\n",
    "# health_df['Age(years)'].value_counts()"
   ]
  },
  {
   "cell_type": "code",
   "execution_count": 86,
   "id": "8203f730-8bea-48d8-acfb-fd9b5444489d",
   "metadata": {},
   "outputs": [],
   "source": [
    "SOCIO_COLS = ['Age(years)', 'Education', 'Gender', 'Grade', 'Income', 'Race/Ethnicity']\n",
    "# health_df[health_df['Age(years)'].notna()][['Datasource', 'Question', 'LocationAbbr'] + SOCIO_COLS]['LocationAbbr'].value_counts()"
   ]
  },
  {
   "cell_type": "code",
   "execution_count": 40,
   "id": "ef2ae4ea-60b8-4d69-a113-4f04a70f3e72",
   "metadata": {},
   "outputs": [
    {
     "data": {
      "text/plain": [
       "YearStart                                                                  2019\n",
       "YearEnd                                                                    2019\n",
       "LocationAbbr                                                                 AK\n",
       "LocationDesc                                                             Alaska\n",
       "Datasource                              Youth Risk Behavior Surveillance System\n",
       "Class                                                         Physical Activity\n",
       "Topic                                              Physical Activity - Behavior\n",
       "Question                      Percent of students in grades 9-12 who achieve...\n",
       "Data_Value_Unit                                                             NaN\n",
       "Data_Value_Type                                                           Value\n",
       "Data_Value                                                                  9.6\n",
       "Data_Value_Alt                                                              9.6\n",
       "Data_Value_Footnote_Symbol                                                  NaN\n",
       "Data_Value_Footnote                                                         NaN\n",
       "Low_Confidence_Limit                                                        5.5\n",
       "High_Confidence_Limit                                                      16.5\n",
       "Sample_Size                                                               130.0\n",
       "Total                                                                       NaN\n",
       "Age(years)                                                                  NaN\n",
       "Education                                                                   NaN\n",
       "Gender                                                                      NaN\n",
       "Grade                                                                       NaN\n",
       "Income                                                                      NaN\n",
       "Race/Ethnicity                                                            Asian\n",
       "GeoLocation                                   (64.845079957001, -147.722059036)\n",
       "ClassID                                                                      PA\n",
       "TopicID                                                                     PA1\n",
       "QuestionID                                                                 Q048\n",
       "DataValueTypeID                                                           VALUE\n",
       "LocationID                                                                    2\n",
       "StratificationCategory1                                          Race/Ethnicity\n",
       "Stratification1                                                           Asian\n",
       "StratificationCategoryId1                                                  RACE\n",
       "StratificationID1                                                       RACEASN\n",
       "Name: 0, dtype: object"
      ]
     },
     "execution_count": 40,
     "metadata": {},
     "output_type": "execute_result"
    }
   ],
   "source": [
    "health_df.iloc[0]"
   ]
  },
  {
   "cell_type": "markdown",
   "id": "efc5f90e-b3b2-4ec6-9799-ddd82207e3e9",
   "metadata": {},
   "source": [
    "### Health GIS Visualizations"
   ]
  },
  {
   "cell_type": "code",
   "execution_count": null,
   "id": "09909b4f-9871-406e-a3e4-d6e2d5f67359",
   "metadata": {},
   "outputs": [],
   "source": [
    "# Obesity, Overweight\n",
    "# Percent of adults aged 18 years and older who have an overweight classification \n",
    "\n",
    "health_weight_df = "
   ]
  },
  {
   "cell_type": "code",
   "execution_count": null,
   "id": "a02dc4b6-a801-458e-8010-bf8c5e955eb1",
   "metadata": {},
   "outputs": [],
   "source": []
  },
  {
   "cell_type": "code",
   "execution_count": null,
   "id": "a85b1e31-49cb-4d26-81f0-6b07c38f0403",
   "metadata": {},
   "outputs": [],
   "source": []
  }
 ],
 "metadata": {
  "kernelspec": {
   "display_name": "Python 3 (ipykernel)",
   "language": "python",
   "name": "python3"
  },
  "language_info": {
   "codemirror_mode": {
    "name": "ipython",
    "version": 3
   },
   "file_extension": ".py",
   "mimetype": "text/x-python",
   "name": "python",
   "nbconvert_exporter": "python",
   "pygments_lexer": "ipython3",
   "version": "3.10.11"
  }
 },
 "nbformat": 4,
 "nbformat_minor": 5
}
