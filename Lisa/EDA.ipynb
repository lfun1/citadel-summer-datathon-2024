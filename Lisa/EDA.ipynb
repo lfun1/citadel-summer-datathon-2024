{
 "cells": [
  {
   "cell_type": "markdown",
   "id": "cbfc7633-125b-40c4-a125-2b4c4c55471d",
   "metadata": {},
   "source": [
    "## EDA\n",
    "\n",
    "Lisa Fung, 8/3/24"
   ]
  },
  {
   "cell_type": "code",
   "execution_count": 2,
   "id": "5ff214e5-e2c3-4469-b77a-696c93749ae8",
   "metadata": {},
   "outputs": [],
   "source": [
    "import numpy as np\n",
    "import pandas as pd\n",
    "import matplotlib.pyplot as plt"
   ]
  },
  {
   "cell_type": "code",
   "execution_count": 3,
   "id": "c7ec33e8-107e-4145-8fb7-022c22adb62e",
   "metadata": {},
   "outputs": [],
   "source": [
    "import geopandas as gpd"
   ]
  },
  {
   "cell_type": "code",
   "execution_count": 15,
   "id": "ab396092-808a-4223-9564-b437f1468aac",
   "metadata": {},
   "outputs": [
    {
     "name": "stderr",
     "output_type": "stream",
     "text": [
      "C:\\Users\\lisaf\\AppData\\Local\\Temp\\ipykernel_16548\\1812283153.py:8: DtypeWarning: Columns (18,19,21,22) have mixed types. Specify dtype option on import or set low_memory=False.\n",
      "  health_df = pd.read_csv(\"../Data/Nutrition_Physical_Activity_and_Obesity_Data.csv\")\n"
     ]
    }
   ],
   "source": [
    "acs_df = pd.read_csv(\"../Data/acs_5yr_est_selected_economic_characteristics_2010-2022.csv\")\n",
    "commodities_df = pd.read_csv(\"../Data/all_commodities_fixed.csv\")\n",
    "stocks_prices_df = pd.read_csv(\"../Data/all_stock_and_etfs.csv\")\n",
    "meat_store_df = pd.read_csv(\"../Data/Meat_Stats_Cold_Storage.csv\")\n",
    "meat_prod_df = pd.read_csv(\"../Data/Meat_Stats_Meat_Production.csv\")\n",
    "meat_scounts_df = pd.read_csv(\"../Data/Meat_Stats_Slaughter_Counts.csv\")\n",
    "meat_sweights_df = pd.read_csv(\"../Data/Meat_Stats_Slaughter_Weights.csv\") # 1983-2023\n",
    "health_df = pd.read_csv(\"../Data/Nutrition_Physical_Activity_and_Obesity_Data.csv\")\n",
    "stocks_info_df = pd.read_csv(\"../Data/stock_descriptions.csv\")"
   ]
  },
  {
   "cell_type": "code",
   "execution_count": 16,
   "id": "f7b05f29-c590-4953-b2a3-0ff3b0956bff",
   "metadata": {},
   "outputs": [],
   "source": [
    "# commodities_df['Commodity'].unique()\n",
    "# stocks_prices_df['Ticker_Symbol'].unique()\n",
    "# meat_store_df['Animal'].unique()\n",
    "# meat_scounts_df['Animal'].unique()\n",
    "# stocks_info_df"
   ]
  },
  {
   "cell_type": "markdown",
   "id": "ef6db159-d10d-4ad7-a2ef-79d50913497c",
   "metadata": {},
   "source": [
    "## Health Data: Nutrition_Physical_Activity_and_Obesity_Data\n",
    "Questions:\n",
    "- Ages: Grade 9-12, Adults 18 and older\n",
    "- Stratification: 'LocationAbbr', 'Age(years)', 'Education', 'Gender', 'Grade', 'Income', 'Race/Ethnicity'\n",
    "- Questions: Physical Activity, Obesity/Overweight, Nutrition (Vegetables, fruits, soda/pop)"
   ]
  },
  {
   "cell_type": "code",
   "execution_count": 70,
   "id": "df810e7e-f872-4692-9456-73572eb3ba1a",
   "metadata": {},
   "outputs": [
    {
     "data": {
      "text/plain": [
       "QuestionID  Question                                                                                                                                                                                                                                             \n",
       "Q036        Percent of adults aged 18 years and older who have obesity                                                                                                                                                                                               18117\n",
       "Q037        Percent of adults aged 18 years and older who have an overweight classification                                                                                                                                                                          18117\n",
       "Q047        Percent of adults who engage in no leisure-time physical activity                                                                                                                                                                                        18089\n",
       "Q043        Percent of adults who achieve at least 150 minutes a week of moderate-intensity aerobic physical activity or 75 minutes a week of vigorous-intensity aerobic activity (or an equivalent combination)                                                      7449\n",
       "Q045        Percent of adults who achieve at least 300 minutes a week of moderate-intensity aerobic physical activity or 150 minutes a week of vigorous-intensity aerobic activity (or an equivalent combination)                                                     7449\n",
       "Q046        Percent of adults who engage in muscle-strengthening activities on 2 or more days a week                                                                                                                                                                  7449\n",
       "Q044        Percent of adults who achieve at least 150 minutes a week of moderate-intensity aerobic physical activity or 75 minutes a week of vigorous-intensity aerobic physical activity and engage in muscle-strengthening activities on 2 or more days a week     7449\n",
       "Q038        Percent of students in grades 9-12 who have obesity                                                                                                                                                                                                       5614\n",
       "Q039        Percent of students in grades 9-12 who have an overweight classification                                                                                                                                                                                  5614\n",
       "Q020        Percent of students in grades 9-12 who consume fruit less than 1 time daily                                                                                                                                                                               5362\n",
       "Q059        Percent of students in grades 9-12 watching 3 or more hours of television each school day                                                                                                                                                                 5264\n",
       "Q021        Percent of students in grades 9-12 who consume vegetables less than 1 time daily                                                                                                                                                                          5166\n",
       "Q049        Percent of students in grades 9-12 who participate in daily physical education                                                                                                                                                                            5096\n",
       "Q019        Percent of adults who report consuming vegetables less than one time daily                                                                                                                                                                                4565\n",
       "Q018        Percent of adults who report consuming fruit less than one time daily                                                                                                                                                                                     4565\n",
       "Q058        Percent of students in grades 9-12 who drank regular soda/pop at least one time per day                                                                                                                                                                   4032\n",
       "Q048        Percent of students in grades 9-12 who achieve 1 hour or more of moderate-and/or vigorous-intensity physical activity daily                                                                                                                               3948\n",
       "Name: count, dtype: int64"
      ]
     },
     "execution_count": 70,
     "metadata": {},
     "output_type": "execute_result"
    }
   ],
   "source": [
    "health_df[['QuestionID', 'Question']].value_counts()\n",
    "# health_df['StratificationCategory1'].value_counts()\n",
    "# health_df['Stratification1'].value_counts()\n",
    "# len(health_df['YearStart'] == health_df['YearEnd']) == len(health_df) # YearStart = YearEnd for all"
   ]
  },
  {
   "cell_type": "code",
   "execution_count": 18,
   "id": "dcfdd475-416e-46c5-aff5-afb9e1fa7b10",
   "metadata": {},
   "outputs": [
    {
     "data": {
      "text/plain": [
       "Index(['YearStart', 'YearEnd', 'LocationAbbr', 'LocationDesc', 'Datasource',\n",
       "       'Class', 'Topic', 'Question', 'Data_Value_Unit', 'Data_Value_Type',\n",
       "       'Data_Value', 'Data_Value_Alt', 'Data_Value_Footnote_Symbol',\n",
       "       'Data_Value_Footnote', 'Low_Confidence_Limit', 'High_Confidence_Limit',\n",
       "       'Sample_Size', 'Total', 'Age(years)', 'Education', 'Gender', 'Grade',\n",
       "       'Income', 'Race/Ethnicity', 'GeoLocation', 'ClassID', 'TopicID',\n",
       "       'QuestionID', 'DataValueTypeID', 'LocationID',\n",
       "       'StratificationCategory1', 'Stratification1',\n",
       "       'StratificationCategoryId1', 'StratificationID1'],\n",
       "      dtype='object')"
      ]
     },
     "execution_count": 18,
     "metadata": {},
     "output_type": "execute_result"
    }
   ],
   "source": [
    "health_df.columns\n",
    "# health_df['Age(years)'].value_counts()"
   ]
  },
  {
   "cell_type": "code",
   "execution_count": 19,
   "id": "8203f730-8bea-48d8-acfb-fd9b5444489d",
   "metadata": {},
   "outputs": [],
   "source": [
    "SOCIO_COLS = ['Age(years)', 'Education', 'Gender', 'Grade', 'Income', 'Race/Ethnicity']\n",
    "# health_df[health_df['Age(years)'].notna()][['Datasource', 'Question', 'LocationAbbr'] + SOCIO_COLS]['LocationAbbr'].value_counts()"
   ]
  },
  {
   "cell_type": "code",
   "execution_count": 20,
   "id": "ef2ae4ea-60b8-4d69-a113-4f04a70f3e72",
   "metadata": {},
   "outputs": [
    {
     "data": {
      "text/plain": [
       "YearStart                                                                  2019\n",
       "YearEnd                                                                    2019\n",
       "LocationAbbr                                                                 AK\n",
       "LocationDesc                                                             Alaska\n",
       "Datasource                              Youth Risk Behavior Surveillance System\n",
       "Class                                                         Physical Activity\n",
       "Topic                                              Physical Activity - Behavior\n",
       "Question                      Percent of students in grades 9-12 who achieve...\n",
       "Data_Value_Unit                                                             NaN\n",
       "Data_Value_Type                                                           Value\n",
       "Data_Value                                                                  9.6\n",
       "Data_Value_Alt                                                              9.6\n",
       "Data_Value_Footnote_Symbol                                                  NaN\n",
       "Data_Value_Footnote                                                         NaN\n",
       "Low_Confidence_Limit                                                        5.5\n",
       "High_Confidence_Limit                                                      16.5\n",
       "Sample_Size                                                               130.0\n",
       "Total                                                                       NaN\n",
       "Age(years)                                                                  NaN\n",
       "Education                                                                   NaN\n",
       "Gender                                                                      NaN\n",
       "Grade                                                                       NaN\n",
       "Income                                                                      NaN\n",
       "Race/Ethnicity                                                            Asian\n",
       "GeoLocation                                   (64.845079957001, -147.722059036)\n",
       "ClassID                                                                      PA\n",
       "TopicID                                                                     PA1\n",
       "QuestionID                                                                 Q048\n",
       "DataValueTypeID                                                           VALUE\n",
       "LocationID                                                                    2\n",
       "StratificationCategory1                                          Race/Ethnicity\n",
       "Stratification1                                                           Asian\n",
       "StratificationCategoryId1                                                  RACE\n",
       "StratificationID1                                                       RACEASN\n",
       "Name: 0, dtype: object"
      ]
     },
     "execution_count": 20,
     "metadata": {},
     "output_type": "execute_result"
    }
   ],
   "source": [
    "health_df.iloc[0]"
   ]
  },
  {
   "cell_type": "markdown",
   "id": "efc5f90e-b3b2-4ec6-9799-ddd82207e3e9",
   "metadata": {},
   "source": [
    "### Health GIS Visualizations"
   ]
  },
  {
   "cell_type": "code",
   "execution_count": 83,
   "id": "09909b4f-9871-406e-a3e4-d6e2d5f67359",
   "metadata": {},
   "outputs": [],
   "source": [
    "# Obesity, Overweight\n",
    "# Percent of adults aged 18 years and older who have an overweight classification\n",
    "health_weight_df = health_df[health_df['ClassID'] == 'OWS'].copy()"
   ]
  },
  {
   "cell_type": "code",
   "execution_count": 84,
   "id": "a02dc4b6-a801-458e-8010-bf8c5e955eb1",
   "metadata": {},
   "outputs": [
    {
     "data": {
      "text/plain": [
       "Question\n",
       "Percent of adults aged 18 years and older who have obesity                         18117\n",
       "Percent of adults aged 18 years and older who have an overweight classification    18117\n",
       "Percent of students in grades 9-12 who have obesity                                 5614\n",
       "Percent of students in grades 9-12 who have an overweight classification            5614\n",
       "Name: count, dtype: int64"
      ]
     },
     "execution_count": 84,
     "metadata": {},
     "output_type": "execute_result"
    }
   ],
   "source": [
    "health_weight_df.Question.value_counts()"
   ]
  },
  {
   "cell_type": "code",
   "execution_count": 90,
   "id": "a85b1e31-49cb-4d26-81f0-6b07c38f0403",
   "metadata": {},
   "outputs": [
    {
     "name": "stdout",
     "output_type": "stream",
     "text": [
      "<class 'pandas.core.frame.DataFrame'>\n",
      "Index: 55 entries, 48394 to 133279\n",
      "Data columns (total 34 columns):\n",
      " #   Column                      Non-Null Count  Dtype  \n",
      "---  ------                      --------------  -----  \n",
      " 0   YearStart                   55 non-null     int64  \n",
      " 1   YearEnd                     55 non-null     int64  \n",
      " 2   LocationAbbr                55 non-null     object \n",
      " 3   LocationDesc                55 non-null     object \n",
      " 4   Datasource                  55 non-null     object \n",
      " 5   Class                       55 non-null     object \n",
      " 6   Topic                       55 non-null     object \n",
      " 7   Question                    55 non-null     object \n",
      " 8   Data_Value_Unit             0 non-null      float64\n",
      " 9   Data_Value_Type             55 non-null     object \n",
      " 10  Data_Value                  55 non-null     float64\n",
      " 11  Data_Value_Alt              55 non-null     float64\n",
      " 12  Data_Value_Footnote_Symbol  0 non-null      object \n",
      " 13  Data_Value_Footnote         0 non-null      object \n",
      " 14  Low_Confidence_Limit        55 non-null     float64\n",
      " 15  High_Confidence_Limit       55 non-null     float64\n",
      " 16  Sample_Size                 55 non-null     float64\n",
      " 17  Total                       55 non-null     object \n",
      " 18  Age(years)                  0 non-null      object \n",
      " 19  Education                   0 non-null      object \n",
      " 20  Gender                      0 non-null      object \n",
      " 21  Grade                       0 non-null      object \n",
      " 22  Income                      0 non-null      object \n",
      " 23  Race/Ethnicity              0 non-null      object \n",
      " 24  GeoLocation                 54 non-null     object \n",
      " 25  ClassID                     55 non-null     object \n",
      " 26  TopicID                     55 non-null     object \n",
      " 27  QuestionID                  55 non-null     object \n",
      " 28  DataValueTypeID             55 non-null     object \n",
      " 29  LocationID                  55 non-null     int64  \n",
      " 30  StratificationCategory1     55 non-null     object \n",
      " 31  Stratification1             55 non-null     object \n",
      " 32  StratificationCategoryId1   55 non-null     object \n",
      " 33  StratificationID1           55 non-null     object \n",
      "dtypes: float64(6), int64(3), object(25)\n",
      "memory usage: 15.0+ KB\n"
     ]
    }
   ],
   "source": [
    "# [['LocationAbbr'] + SOCIO_COLS]\n",
    "# Q036 = 'Percent of adults aged 18 years and older who have obesity'\n",
    "\n",
    "health_q36_df = health_weight_df[health_weight_df['QuestionID'] == 'Q036'].copy()\n",
    "health_q36_df['YearStart'].value_counts() # 2011 - 2022\n",
    "\n",
    "q36_vars = {'YearStart' : 2022, \n",
    "            'StratificationCategory1' : 'Total', \n",
    "            'Stratification1' : 'Total'}\n",
    "\n",
    "q36_mask = (health_q36_df['YearStart'] == q36_vars['YearStart']) & (health_q36_df['StratificationCategory1'] == q36_vars['StratificationCategory1']) & (health_q36_df['Stratification1'] == q36_vars['Stratification1'])\n",
    "\n",
    "# Heatmap by percentage of obesity by state, for given year, using 'Total'\n",
    "health_q36_df[q36_mask].info()"
   ]
  },
  {
   "cell_type": "code",
   "execution_count": null,
   "id": "f46afd4a-7402-4323-86dd-4c3c4efcba70",
   "metadata": {},
   "outputs": [],
   "source": []
  }
 ],
 "metadata": {
  "kernelspec": {
   "display_name": "Python 3 (ipykernel)",
   "language": "python",
   "name": "python3"
  },
  "language_info": {
   "codemirror_mode": {
    "name": "ipython",
    "version": 3
   },
   "file_extension": ".py",
   "mimetype": "text/x-python",
   "name": "python",
   "nbconvert_exporter": "python",
   "pygments_lexer": "ipython3",
   "version": "3.10.11"
  }
 },
 "nbformat": 4,
 "nbformat_minor": 5
}
